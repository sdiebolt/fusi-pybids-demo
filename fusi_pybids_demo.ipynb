{
 "cells": [
  {
   "cell_type": "markdown",
   "id": "f0f7a400-701a-4ef9-af85-dda39ec93b28",
   "metadata": {},
   "source": [
    "# Introduction to PyBIDS for parsing fUSI-BIDS datasets \n",
    "\n",
    "This notebook is adapted from the [PyBIDS tutorial](https://bids-standard.github.io/pybids/index.html#), with focus on how parse fUSI-BIDS datasets."
   ]
  },
  {
   "cell_type": "code",
   "execution_count": 1,
   "id": "af22335e-62d1-4c3b-9953-f6cede996377",
   "metadata": {},
   "outputs": [],
   "source": [
    "from bids import BIDSLayout"
   ]
  },
  {
   "cell_type": "markdown",
   "id": "7de575a7-ee11-4345-966c-5f12f7b4f9f6",
   "metadata": {},
   "source": [
    "PyBIDS is a tool to query, summarize, and manipulate data using the BIDS standard. In this tutorial, we will use the example fUSI-BIDS dataset available for download on the [fUSI-BIDS specification draft](https://docs.google.com/document/d/1W3z01mf1E8cfg_OY7ZGqeUeOKv659jCHQBXavtmT-T8/edit?tab=t.0#heading=h.4k1noo90gelw) to illustrate some of the functionality of pybids.\n",
    "\n",
    "## 1 Parsing the dataset\n",
    "\n",
    "At the core of PyBIDS is the `BIDSLayout` class.  `BIDSLayout` is a lightweight Python class that represents a BIDS project file tree and provides a variety of helpful methods for querying and manipulating BIDS files. While the BIDSLayout initializer has a large number of arguments you can use to control the way files are indexed and accessed, you will most commonly parse a fUSI-BIDS dataset by passing in three arguments:"
   ]
  },
  {
   "cell_type": "code",
   "execution_count": 2,
   "id": "3fc7fd8e-a6fc-4da1-b841-dbfd5fa02ef3",
   "metadata": {},
   "outputs": [
    {
     "data": {
      "text/plain": [
       "BIDS Layout: ...-bids-examples/datasets/0.0.10 | Subjects: 10 | Sessions: 20 | Runs: 0"
      ]
     },
     "execution_count": 2,
     "metadata": {},
     "output_type": "execute_result"
    }
   ],
   "source": [
    "# Initialize the layout\n",
    "layout = BIDSLayout(\"fusi-bids-examples/datasets/0.0.10\", config=\"fusi_bids.json\", validate=False)\n",
    "\n",
    "# Print some basic information about the layout\n",
    "layout"
   ]
  },
  {
   "cell_type": "markdown",
   "id": "7a21891f-662e-4253-9044-22d86451096f",
   "metadata": {},
   "source": [
    "We set `validate` to `False` because the BIDS validator does not yet implement the fUSI-BIDS specification. Additionally, we set a custom PyBIDS configuration file to define the new `pose` entity and `fus`/`angio` datatypes introduced by the fUSI-BIDS specification."
   ]
  },
  {
   "cell_type": "markdown",
   "id": "603059c7-2bcc-4a49-adc9-0717cf3e03a9",
   "metadata": {},
   "source": [
    "## 2 Querying the dataset\n",
    "\n",
    "When we initialize a `BIDSLayout`, all of the files and metadata found under the specified root folder are indexed. Once initialization is complete, we can start querying the `BIDSLayout` in various ways. The workhorse method is `get()`. If we call `get()` with no additional arguments, we get back a list of all the BIDS files in our dataset:"
   ]
  },
  {
   "cell_type": "code",
   "execution_count": 3,
   "id": "8d72efbd-4982-4f77-a5ee-c4af82a6886e",
   "metadata": {},
   "outputs": [
    {
     "name": "stdout",
     "output_type": "stream",
     "text": [
      "There are 337 files in the layout.\n",
      "\n",
      "The first 10 files are:\n"
     ]
    },
    {
     "data": {
      "text/plain": [
       "[<BIDSFile filename='/home/sdiebolt/Documents/Work/fusi-pybids-demo/fusi-bids-examples/datasets/0.0.10/CHANGES.md'>,\n",
       " <BIDSJSONFile filename='/home/sdiebolt/Documents/Work/fusi-pybids-demo/fusi-bids-examples/datasets/0.0.10/dataset_description.json'>,\n",
       " <BIDSJSONFile filename='/home/sdiebolt/Documents/Work/fusi-pybids-demo/fusi-bids-examples/datasets/0.0.10/participants.json'>,\n",
       " <BIDSDataFile filename='/home/sdiebolt/Documents/Work/fusi-pybids-demo/fusi-bids-examples/datasets/0.0.10/participants.tsv'>,\n",
       " <BIDSJSONFile filename='/home/sdiebolt/Documents/Work/fusi-pybids-demo/fusi-bids-examples/datasets/0.0.10/pwd.json'>,\n",
       " <BIDSFile filename='/home/sdiebolt/Documents/Work/fusi-pybids-demo/fusi-bids-examples/datasets/0.0.10/README.md'>,\n",
       " <BIDSImageFile filename='/home/sdiebolt/Documents/Work/fusi-pybids-demo/fusi-bids-examples/datasets/0.0.10/sub-01/ses-treatment/angio/sub-01_ses-treatment_pwd.nii.gz'>,\n",
       " <BIDSJSONFile filename='/home/sdiebolt/Documents/Work/fusi-pybids-demo/fusi-bids-examples/datasets/0.0.10/sub-01/ses-treatment/fus/sub-01_ses-treatment_task-awake_pose-01_pwd.json'>,\n",
       " <BIDSImageFile filename='/home/sdiebolt/Documents/Work/fusi-pybids-demo/fusi-bids-examples/datasets/0.0.10/sub-01/ses-treatment/fus/sub-01_ses-treatment_task-awake_pose-01_pwd.nii.gz'>,\n",
       " <BIDSJSONFile filename='/home/sdiebolt/Documents/Work/fusi-pybids-demo/fusi-bids-examples/datasets/0.0.10/sub-01/ses-treatment/fus/sub-01_ses-treatment_task-awake_pose-02_pwd.json'>]"
      ]
     },
     "execution_count": 3,
     "metadata": {},
     "output_type": "execute_result"
    }
   ],
   "source": [
    "all_files = layout.get()\n",
    "\n",
    "print(\"There are {} files in the layout.\".format(len(all_files)))\n",
    "print(\"\\nThe first 10 files are:\")\n",
    "all_files[:10]"
   ]
  },
  {
   "cell_type": "markdown",
   "id": "07650b46-0087-45ae-854e-0d10d0d01d4d",
   "metadata": {},
   "source": [
    "The returned object is a Python list. By default, each element in the list is a `BIDSFile` object. We discuss the `BIDSFile` object in much more detail below. For now, let’s simplify things and work with just filenames:"
   ]
  },
  {
   "cell_type": "code",
   "execution_count": 4,
   "id": "d586e4c0-b3b4-447d-9a10-8a4e9c7e9aa3",
   "metadata": {},
   "outputs": [
    {
     "data": {
      "text/plain": [
       "['/home/sdiebolt/Documents/Work/fusi-pybids-demo/fusi-bids-examples/datasets/0.0.10/CHANGES.md',\n",
       " '/home/sdiebolt/Documents/Work/fusi-pybids-demo/fusi-bids-examples/datasets/0.0.10/dataset_description.json',\n",
       " '/home/sdiebolt/Documents/Work/fusi-pybids-demo/fusi-bids-examples/datasets/0.0.10/participants.json',\n",
       " '/home/sdiebolt/Documents/Work/fusi-pybids-demo/fusi-bids-examples/datasets/0.0.10/participants.tsv',\n",
       " '/home/sdiebolt/Documents/Work/fusi-pybids-demo/fusi-bids-examples/datasets/0.0.10/pwd.json',\n",
       " '/home/sdiebolt/Documents/Work/fusi-pybids-demo/fusi-bids-examples/datasets/0.0.10/README.md',\n",
       " '/home/sdiebolt/Documents/Work/fusi-pybids-demo/fusi-bids-examples/datasets/0.0.10/sub-01/ses-treatment/angio/sub-01_ses-treatment_pwd.nii.gz',\n",
       " '/home/sdiebolt/Documents/Work/fusi-pybids-demo/fusi-bids-examples/datasets/0.0.10/sub-01/ses-treatment/fus/sub-01_ses-treatment_task-awake_pose-01_pwd.json',\n",
       " '/home/sdiebolt/Documents/Work/fusi-pybids-demo/fusi-bids-examples/datasets/0.0.10/sub-01/ses-treatment/fus/sub-01_ses-treatment_task-awake_pose-01_pwd.nii.gz',\n",
       " '/home/sdiebolt/Documents/Work/fusi-pybids-demo/fusi-bids-examples/datasets/0.0.10/sub-01/ses-treatment/fus/sub-01_ses-treatment_task-awake_pose-02_pwd.json']"
      ]
     },
     "execution_count": 4,
     "metadata": {},
     "output_type": "execute_result"
    }
   ],
   "source": [
    "layout.get(return_type=\"filename\")[:10]"
   ]
  },
  {
   "cell_type": "markdown",
   "id": "7d33f516-7a9d-4776-8259-47a630ab87c8",
   "metadata": {},
   "source": [
    "## 3 Filtering files by entities\n",
    "\n",
    "The utility of the `BIDSLayout` would be pretty limited if all we could do was retrieve a list of all files in the dataset. Fortunately, the `get()` method accepts all kinds of arguments that allow us to filter the result based on specified criteria. In fact, we can pass any BIDS-defined entity as constraint. For example, here’s how we would retrieve all functional acquisitions with task `stim` for session `treatment`:"
   ]
  },
  {
   "cell_type": "code",
   "execution_count": 5,
   "id": "cd16fcd7-f752-4071-87e1-f6e7e9669eb9",
   "metadata": {
    "scrolled": true
   },
   "outputs": [
    {
     "data": {
      "text/plain": [
       "['/home/sdiebolt/Documents/Work/fusi-pybids-demo/fusi-bids-examples/datasets/0.0.10/sub-01/ses-treatment/fus/sub-01_ses-treatment_task-stim_acq-bregmaMinus1_pwd.nii.gz',\n",
       " '/home/sdiebolt/Documents/Work/fusi-pybids-demo/fusi-bids-examples/datasets/0.0.10/sub-01/ses-treatment/fus/sub-01_ses-treatment_task-stim_acq-bregmaMinus2_pwd.nii.gz',\n",
       " '/home/sdiebolt/Documents/Work/fusi-pybids-demo/fusi-bids-examples/datasets/0.0.10/sub-01/ses-treatment/fus/sub-01_ses-treatment_task-stim_acq-bregmaPlus05_pwd.nii.gz',\n",
       " '/home/sdiebolt/Documents/Work/fusi-pybids-demo/fusi-bids-examples/datasets/0.0.10/sub-02/ses-treatment/fus/sub-02_ses-treatment_task-stim_acq-bregmaMinus1_pwd.nii.gz',\n",
       " '/home/sdiebolt/Documents/Work/fusi-pybids-demo/fusi-bids-examples/datasets/0.0.10/sub-02/ses-treatment/fus/sub-02_ses-treatment_task-stim_acq-bregmaMinus2_pwd.nii.gz',\n",
       " '/home/sdiebolt/Documents/Work/fusi-pybids-demo/fusi-bids-examples/datasets/0.0.10/sub-02/ses-treatment/fus/sub-02_ses-treatment_task-stim_acq-bregmaPlus05_pwd.nii.gz',\n",
       " '/home/sdiebolt/Documents/Work/fusi-pybids-demo/fusi-bids-examples/datasets/0.0.10/sub-03/ses-treatment/fus/sub-03_ses-treatment_task-stim_acq-bregmaMinus1_pwd.nii.gz',\n",
       " '/home/sdiebolt/Documents/Work/fusi-pybids-demo/fusi-bids-examples/datasets/0.0.10/sub-03/ses-treatment/fus/sub-03_ses-treatment_task-stim_acq-bregmaMinus2_pwd.nii.gz',\n",
       " '/home/sdiebolt/Documents/Work/fusi-pybids-demo/fusi-bids-examples/datasets/0.0.10/sub-03/ses-treatment/fus/sub-03_ses-treatment_task-stim_acq-bregmaPlus05_pwd.nii.gz',\n",
       " '/home/sdiebolt/Documents/Work/fusi-pybids-demo/fusi-bids-examples/datasets/0.0.10/sub-04/ses-treatment/fus/sub-04_ses-treatment_task-stim_acq-bregmaMinus1_pwd.nii.gz',\n",
       " '/home/sdiebolt/Documents/Work/fusi-pybids-demo/fusi-bids-examples/datasets/0.0.10/sub-04/ses-treatment/fus/sub-04_ses-treatment_task-stim_acq-bregmaMinus2_pwd.nii.gz',\n",
       " '/home/sdiebolt/Documents/Work/fusi-pybids-demo/fusi-bids-examples/datasets/0.0.10/sub-04/ses-treatment/fus/sub-04_ses-treatment_task-stim_acq-bregmaPlus05_pwd.nii.gz',\n",
       " '/home/sdiebolt/Documents/Work/fusi-pybids-demo/fusi-bids-examples/datasets/0.0.10/sub-05/ses-treatment/fus/sub-05_ses-treatment_task-stim_acq-bregmaMinus1_pwd.nii.gz',\n",
       " '/home/sdiebolt/Documents/Work/fusi-pybids-demo/fusi-bids-examples/datasets/0.0.10/sub-05/ses-treatment/fus/sub-05_ses-treatment_task-stim_acq-bregmaMinus2_pwd.nii.gz',\n",
       " '/home/sdiebolt/Documents/Work/fusi-pybids-demo/fusi-bids-examples/datasets/0.0.10/sub-05/ses-treatment/fus/sub-05_ses-treatment_task-stim_acq-bregmaPlus05_pwd.nii.gz',\n",
       " '/home/sdiebolt/Documents/Work/fusi-pybids-demo/fusi-bids-examples/datasets/0.0.10/sub-06/ses-treatment/fus/sub-06_ses-treatment_task-stim_acq-bregmaMinus1_pwd.nii.gz',\n",
       " '/home/sdiebolt/Documents/Work/fusi-pybids-demo/fusi-bids-examples/datasets/0.0.10/sub-06/ses-treatment/fus/sub-06_ses-treatment_task-stim_acq-bregmaMinus2_pwd.nii.gz',\n",
       " '/home/sdiebolt/Documents/Work/fusi-pybids-demo/fusi-bids-examples/datasets/0.0.10/sub-06/ses-treatment/fus/sub-06_ses-treatment_task-stim_acq-bregmaPlus05_pwd.nii.gz',\n",
       " '/home/sdiebolt/Documents/Work/fusi-pybids-demo/fusi-bids-examples/datasets/0.0.10/sub-07/ses-treatment/fus/sub-07_ses-treatment_task-stim_acq-bregmaMinus1_pwd.nii.gz',\n",
       " '/home/sdiebolt/Documents/Work/fusi-pybids-demo/fusi-bids-examples/datasets/0.0.10/sub-07/ses-treatment/fus/sub-07_ses-treatment_task-stim_acq-bregmaMinus2_pwd.nii.gz',\n",
       " '/home/sdiebolt/Documents/Work/fusi-pybids-demo/fusi-bids-examples/datasets/0.0.10/sub-07/ses-treatment/fus/sub-07_ses-treatment_task-stim_acq-bregmaPlus05_pwd.nii.gz',\n",
       " '/home/sdiebolt/Documents/Work/fusi-pybids-demo/fusi-bids-examples/datasets/0.0.10/sub-08/ses-treatment/fus/sub-08_ses-treatment_task-stim_acq-bregmaMinus1_pwd.nii.gz',\n",
       " '/home/sdiebolt/Documents/Work/fusi-pybids-demo/fusi-bids-examples/datasets/0.0.10/sub-08/ses-treatment/fus/sub-08_ses-treatment_task-stim_acq-bregmaMinus2_pwd.nii.gz',\n",
       " '/home/sdiebolt/Documents/Work/fusi-pybids-demo/fusi-bids-examples/datasets/0.0.10/sub-08/ses-treatment/fus/sub-08_ses-treatment_task-stim_acq-bregmaPlus05_pwd.nii.gz',\n",
       " '/home/sdiebolt/Documents/Work/fusi-pybids-demo/fusi-bids-examples/datasets/0.0.10/sub-09/ses-treatment/fus/sub-09_ses-treatment_task-stim_acq-bregmaMinus1_pwd.nii.gz',\n",
       " '/home/sdiebolt/Documents/Work/fusi-pybids-demo/fusi-bids-examples/datasets/0.0.10/sub-09/ses-treatment/fus/sub-09_ses-treatment_task-stim_acq-bregmaMinus2_pwd.nii.gz',\n",
       " '/home/sdiebolt/Documents/Work/fusi-pybids-demo/fusi-bids-examples/datasets/0.0.10/sub-09/ses-treatment/fus/sub-09_ses-treatment_task-stim_acq-bregmaPlus05_pwd.nii.gz',\n",
       " '/home/sdiebolt/Documents/Work/fusi-pybids-demo/fusi-bids-examples/datasets/0.0.10/sub-10/ses-treatment/fus/sub-10_ses-treatment_task-stim_acq-bregmaMinus1_pwd.nii.gz',\n",
       " '/home/sdiebolt/Documents/Work/fusi-pybids-demo/fusi-bids-examples/datasets/0.0.10/sub-10/ses-treatment/fus/sub-10_ses-treatment_task-stim_acq-bregmaMinus2_pwd.nii.gz',\n",
       " '/home/sdiebolt/Documents/Work/fusi-pybids-demo/fusi-bids-examples/datasets/0.0.10/sub-10/ses-treatment/fus/sub-10_ses-treatment_task-stim_acq-bregmaPlus05_pwd.nii.gz']"
      ]
     },
     "execution_count": 5,
     "metadata": {},
     "output_type": "execute_result"
    }
   ],
   "source": [
    "layout.get(session=\"treatment\", task=\"stim\", extension=\".nii.gz\", return_type=\"filename\")"
   ]
  },
  {
   "cell_type": "markdown",
   "id": "876b5c4d-a87a-4fd9-a6a8-4172664b4706",
   "metadata": {},
   "source": [
    "If you’re wondering what entities you can pass in as filtering arguments, the answer is contained in the JSON configuration files housed here. To save you the trouble, here are a few of the most common BIDS entities:\n",
    "\n",
    "- `suffix`: The part of a BIDS filename just before the extension (e.g., `pwd`, `bold`, `events`, `physio`, etc.).\n",
    "- `subject`: The subject label.\n",
    "- `session`: The session label.\n",
    "- `run`: The run index.\n",
    "- `task`: The task name.\n",
    "\n",
    "PyBIDS should be aware of all entities that are defined in the BIDS specification. Since we instantiated `BIDSLayout` using a custom fUSI-BIDS configuration file, it is also aware of the `pose` entity!"
   ]
  },
  {
   "cell_type": "markdown",
   "id": "5570636f-f225-4a72-9d38-ab2656204768",
   "metadata": {},
   "source": [
    "## 4 Filtering by metadata\n",
    "\n",
    "All of the entities listed above are found in the names of BIDS files. But sometimes we want to search for files based not just on their names, but also based on metadata defined (per the BIDS specification) in JSON files. Fortunately for us, when we initialize a BIDSLayout, all metadata files associated with BIDS files are automatically indexed. This means we can pass any key that occurs in any JSON file in our project as an argument to `get()`. We can combine these with any number of core BIDS entities (like `subject`, `run`, etc.).\n",
    "\n",
    "For example, say we want to retrieve all files where \n",
    "\n",
    "1. the value of `UltrafastSamplingFrequency` (a metadata key) is 500, \n",
    "2. the acquisition type is `bregmaPlus05`, and \n",
    "3. the subject is `01` or `02`. \n",
    "\n",
    "Here’s how we can do that:"
   ]
  },
  {
   "cell_type": "code",
   "execution_count": 6,
   "id": "b39b20c4-cb3c-4f53-936b-09c0b47d00c0",
   "metadata": {},
   "outputs": [
    {
     "data": {
      "text/plain": [
       "[<BIDSImageFile filename='/home/sdiebolt/Documents/Work/fusi-pybids-demo/fusi-bids-examples/datasets/0.0.10/sub-01/ses-treatment/fus/sub-01_ses-treatment_task-stim_acq-bregmaPlus05_pwd.nii.gz'>,\n",
       " <BIDSImageFile filename='/home/sdiebolt/Documents/Work/fusi-pybids-demo/fusi-bids-examples/datasets/0.0.10/sub-01/ses-vehicle/fus/sub-01_ses-vehicle_task-stim_acq-bregmaPlus05_pwd.nii.gz'>,\n",
       " <BIDSImageFile filename='/home/sdiebolt/Documents/Work/fusi-pybids-demo/fusi-bids-examples/datasets/0.0.10/sub-02/ses-treatment/fus/sub-02_ses-treatment_task-stim_acq-bregmaPlus05_pwd.nii.gz'>,\n",
       " <BIDSImageFile filename='/home/sdiebolt/Documents/Work/fusi-pybids-demo/fusi-bids-examples/datasets/0.0.10/sub-02/ses-vehicle/fus/sub-02_ses-vehicle_task-stim_acq-bregmaPlus05_pwd.nii.gz'>]"
      ]
     },
     "execution_count": 6,
     "metadata": {},
     "output_type": "execute_result"
    }
   ],
   "source": [
    "layout.get(\n",
    "    subject=(\"01\", \"02\"), UltrafastSamplingFrequency=500, acquisition=\"bregmaPlus05\"\n",
    ")"
   ]
  },
  {
   "cell_type": "markdown",
   "id": "e13bb76d-34f4-4d26-9a6b-bf93bbec7868",
   "metadata": {},
   "source": [
    "Notice that we passed a tuple in for subject rather than just a string. This principle applies to all filters: you can always pass in a list instead of a single value, and this will be interpreted as a logical disjunction (i.e., a file must match any one of the provided values)."
   ]
  },
  {
   "cell_type": "markdown",
   "id": "2c53e69b-e84b-47d6-bfd2-5e54556872b1",
   "metadata": {},
   "source": [
    "## 5 Other `get()` options\n",
    "\n",
    "The `get()` method has a number of other useful arguments that control its behavior. We won’t discuss these in detail here, but briefly, here are a couple worth knowing about:\n",
    "\n",
    "- `regex_search`: If you set this to `True`, string filter argument values will be interpreted as regular expressions.\n",
    "- `scope`: If your BIDS dataset contains BIDS-derivatives sub-datasets, you can specify the scope (e.g., `derivatives`, or a BIDS-Derivatives pipeline name) of the search space.\n",
    "\n"
   ]
  },
  {
   "cell_type": "markdown",
   "id": "e392524b-7fb0-4e20-8f10-4215eebd7b47",
   "metadata": {},
   "source": [
    "## 6 The `BIDSFile`\n",
    "\n",
    "When you call `get()` on a `BIDSLayout`, the default returned values are objects of class `BIDSFile`. A `BIDSFile` is a lightweight container for individual files in a BIDS dataset. It provides easy access to a variety of useful attributes and methods. Let’s take a closer look. First, let’s pick a random file from our existing layout."
   ]
  },
  {
   "cell_type": "code",
   "execution_count": 7,
   "id": "6859d1d1-ee43-48d6-8c00-745ee3cd9fd0",
   "metadata": {},
   "outputs": [
    {
     "data": {
      "text/plain": [
       "<BIDSImageFile filename='/home/sdiebolt/Documents/Work/fusi-pybids-demo/fusi-bids-examples/datasets/0.0.10/sub-01/ses-vehicle/fus/sub-01_ses-vehicle_task-awake_pose-02_pwd.nii.gz'>"
      ]
     },
     "execution_count": 7,
     "metadata": {},
     "output_type": "execute_result"
    }
   ],
   "source": [
    "bf = layout.get()[26]\n",
    "bf"
   ]
  },
  {
   "cell_type": "markdown",
   "id": "52d47eb0-a8db-4953-ae91-11db8e98c467",
   "metadata": {},
   "source": [
    "Here are some of the attributes and methods available to us in a `BIDSFile` (note that some of these are only available for certain subclasses of `BIDSFile`; e.g., you can’t call `get_image()` on a `BIDSFile` that doesn’t correspond to an image file!):\n",
    "\n",
    "- `path`: The full path of the associated file\n",
    "- `filename`: The associated file’s filename (without directory)\n",
    "- `dirname`: The directory containing the file\n",
    "- `get_entities()`: Returns information about entities associated with this `BIDSFile` (optionally including metadata)\n",
    "- `get_image()`: Returns the file contents as a NiBabel image (only works for image files)\n",
    "- `get_df()`: Get file contents as a pandas DataFrame (only works for TSV files)\n",
    "- `get_metadata()`: Returns a dictionary of all metadata found in associated JSON files\n",
    "- `get_associations()`: Returns a list of all files associated with this one in some way\n",
    "\n",
    "Let’s see some of these in action."
   ]
  },
  {
   "cell_type": "code",
   "execution_count": 8,
   "id": "729c9802-d449-42ad-8119-56a9d6ea34d5",
   "metadata": {},
   "outputs": [
    {
     "data": {
      "text/plain": [
       "{'datatype': 'fus',\n",
       " 'extension': '.nii.gz',\n",
       " 'pose': '02',\n",
       " 'session': 'vehicle',\n",
       " 'subject': '01',\n",
       " 'suffix': 'pwd',\n",
       " 'task': 'awake'}"
      ]
     },
     "execution_count": 8,
     "metadata": {},
     "output_type": "execute_result"
    }
   ],
   "source": [
    "# Print all the entities associated with this file, and their values\n",
    "bf.get_entities()"
   ]
  },
  {
   "cell_type": "code",
   "execution_count": 9,
   "id": "f8b1a5c0-037e-45a4-bcb2-4aed23be417c",
   "metadata": {
    "scrolled": true
   },
   "outputs": [
    {
     "data": {
      "text/plain": [
       "{'ClutterFilterWindowDuration': 400,\n",
       " 'ClutterFilters': [{'FilterType': 'Butterworth low-pass',\n",
       "   'HighThreshold': 25},\n",
       "  {'FilterType': 'Fixed-threshold SVD',\n",
       "   'LowThreshold': 60,\n",
       "   'HighThreshold': 200}],\n",
       " 'DelayAfterTrigger': 0.6,\n",
       " 'DeviceSerialNumber': 'X23HFB12K8',\n",
       " 'Manufacturer': 'Iconeus',\n",
       " 'ManufacturersModelName': 'Iconeus One',\n",
       " 'MaximalDepth': 10,\n",
       " 'PlaneWaveAngles': [-10, -8, -6, -4, -2, 0, 2, 4, 6, 8, 10],\n",
       " 'PowerDopplerIntegrationDuration': 400,\n",
       " 'ProbeCentralFrequency': 15.625,\n",
       " 'ProbeElevationAperture': 1.5,\n",
       " 'ProbeElevationFocus': 8,\n",
       " 'ProbeModel': 'IcoPrime',\n",
       " 'ProbeNumberOfElements': 128,\n",
       " 'ProbePitch': 0.11,\n",
       " 'ProbeRadiusOfCurvature': 0,\n",
       " 'ProbeType': 'linear',\n",
       " 'ProbeVoltage': 25,\n",
       " 'RepetitionTime': 2.4,\n",
       " 'SequenceName': 'default',\n",
       " 'SoftwareVersions': '1.5.0',\n",
       " 'StationName': 'Machine01',\n",
       " 'TaskDescription': 'Awake head-fixed state.',\n",
       " 'TaskName': 'awake',\n",
       " 'UltrafastSamplingFrequency': 500,\n",
       " 'UltrasoundPulseRepetitionFrequency': 5500}"
      ]
     },
     "execution_count": 9,
     "metadata": {},
     "output_type": "execute_result"
    }
   ],
   "source": [
    "# Print all the metadata associated with this file\n",
    "bf.get_metadata()"
   ]
  },
  {
   "cell_type": "code",
   "execution_count": 10,
   "id": "c693f451-de7e-48d7-98af-a76ca6017f44",
   "metadata": {
    "scrolled": true
   },
   "outputs": [
    {
     "data": {
      "text/plain": [
       "{'ClutterFilterWindowDuration': 400,\n",
       " 'ClutterFilters': [{'FilterType': 'Butterworth low-pass',\n",
       "   'HighThreshold': 25},\n",
       "  {'FilterType': 'Fixed-threshold SVD',\n",
       "   'LowThreshold': 60,\n",
       "   'HighThreshold': 200}],\n",
       " 'DelayAfterTrigger': 0.6,\n",
       " 'DeviceSerialNumber': 'X23HFB12K8',\n",
       " 'Manufacturer': 'Iconeus',\n",
       " 'ManufacturersModelName': 'Iconeus One',\n",
       " 'MaximalDepth': 10,\n",
       " 'PlaneWaveAngles': [-10, -8, -6, -4, -2, 0, 2, 4, 6, 8, 10],\n",
       " 'PowerDopplerIntegrationDuration': 400,\n",
       " 'ProbeCentralFrequency': 15.625,\n",
       " 'ProbeElevationAperture': 1.5,\n",
       " 'ProbeElevationFocus': 8,\n",
       " 'ProbeModel': 'IcoPrime',\n",
       " 'ProbeNumberOfElements': 128,\n",
       " 'ProbePitch': 0.11,\n",
       " 'ProbeRadiusOfCurvature': 0,\n",
       " 'ProbeType': 'linear',\n",
       " 'ProbeVoltage': 25,\n",
       " 'RepetitionTime': 2.4,\n",
       " 'SequenceName': 'default',\n",
       " 'SoftwareVersions': '1.5.0',\n",
       " 'StationName': 'Machine01',\n",
       " 'TaskDescription': 'Awake head-fixed state.',\n",
       " 'TaskName': 'awake',\n",
       " 'UltrafastSamplingFrequency': 500,\n",
       " 'UltrasoundPulseRepetitionFrequency': 5500,\n",
       " 'datatype': 'fus',\n",
       " 'extension': '.nii.gz',\n",
       " 'pose': '02',\n",
       " 'session': 'vehicle',\n",
       " 'subject': '01',\n",
       " 'suffix': 'pwd',\n",
       " 'task': 'awake'}"
      ]
     },
     "execution_count": 10,
     "metadata": {},
     "output_type": "execute_result"
    }
   ],
   "source": [
    "# We can the union of both of the above in one shot like this\n",
    "bf.get_entities(metadata='all')"
   ]
  },
  {
   "cell_type": "code",
   "execution_count": 11,
   "id": "a613d4af-9b6e-4434-b9ee-62fc7d568128",
   "metadata": {},
   "outputs": [
    {
     "data": {
      "text/plain": [
       "[<BIDSJSONFile filename='/home/sdiebolt/Documents/Work/fusi-pybids-demo/fusi-bids-examples/datasets/0.0.10/sub-01/ses-vehicle/fus/sub-01_ses-vehicle_task-awake_pose-02_pwd.json'>]"
      ]
     },
     "execution_count": 11,
     "metadata": {},
     "output_type": "execute_result"
    }
   ],
   "source": [
    "bf.get_associations()"
   ]
  },
  {
   "cell_type": "markdown",
   "id": "6ba62e53-2be2-423e-983a-8660fd7ec3a1",
   "metadata": {},
   "source": [
    "## 7 Other utilities\n",
    "\n",
    "If you want to learn more about PyBIDS, e.g. how to build paths from entities or load derivatives, check out the [PyBIDS tutorial](https://bids-standard.github.io/pybids/examples/pybids_tutorial.html)."
   ]
  }
 ],
 "metadata": {
  "kernelspec": {
   "display_name": "Python 3 (ipykernel)",
   "language": "python",
   "name": "python3"
  },
  "language_info": {
   "codemirror_mode": {
    "name": "ipython",
    "version": 3
   },
   "file_extension": ".py",
   "mimetype": "text/x-python",
   "name": "python",
   "nbconvert_exporter": "python",
   "pygments_lexer": "ipython3",
   "version": "3.11.8"
  }
 },
 "nbformat": 4,
 "nbformat_minor": 5
}
